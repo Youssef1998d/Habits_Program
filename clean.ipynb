{
 "cells": [
  {
   "cell_type": "code",
   "execution_count": null,
   "id": "c68fb40b",
   "metadata": {},
   "outputs": [],
   "source": [
    "import pandas as pd\n",
    "from habits import *\n",
    "\n",
    "f=\"\"\n",
    "df = pd.DataFrame(get_data(f))\n",
    "df[2] = [float(x.replace(',','.') or 0) for x in df[2]]\n",
    "df.rename(columns={0:\"Action\", 1:\"Subject\", 2:\"Number\", 3:\"Date & Time\", 4:\"Location\"}, inplace=True)\n",
    "df['Date'] = [x.split(',')[0] for x in df['Date & Time']]\n",
    "df['Time'] = [(x.split(' ')[-2],x.split(' ')[-1] )for x in df['Date & Time']]\n",
    "l=[]\n",
    "for x in df['Time']:\n",
    "    s = x[0].split(':')\n",
    "    if x[1]=='PM' and int(s[0])<12:\n",
    "        s[0] = str(int(s[0])+12)\n",
    "        l.append(':'.join(s))\n",
    "    else:\n",
    "        l.append(x[0])\n",
    "df['Time']=l\n",
    "del df['Date & Time']\n",
    "\n"
   ]
  }
 ],
 "metadata": {
  "kernelspec": {
   "display_name": "Python 3",
   "language": "python",
   "name": "python3"
  },
  "language_info": {
   "codemirror_mode": {
    "name": "ipython",
    "version": 3
   },
   "file_extension": ".py",
   "mimetype": "text/x-python",
   "name": "python",
   "nbconvert_exporter": "python",
   "pygments_lexer": "ipython3",
   "version": "3.9.1"
  },
  "vscode": {
   "interpreter": {
    "hash": "8f939dc046ae95b61db57b1ddfb635e5199eac9f7bf30422bfd106b8f44dc254"
   }
  }
 },
 "nbformat": 4,
 "nbformat_minor": 5
}
